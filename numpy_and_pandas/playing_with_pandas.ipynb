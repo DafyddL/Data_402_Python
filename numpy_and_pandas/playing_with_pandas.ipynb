{
 "cells": [
  {
   "cell_type": "markdown",
   "id": "c88c5988-478c-47fa-822f-b70ac1a47bfc",
   "metadata": {},
   "source": [
    "# Titanic dataset\n",
    "\n",
    "Load the titanic dataset using seaborn. pip install seaborn, 'import seaborn as sns', then load using 'sns.load_dataset('titanic')'\n"
   ]
  },
  {
   "cell_type": "code",
   "execution_count": 88,
   "id": "46ffb810-84fb-4308-8fb7-f97df89dad41",
   "metadata": {},
   "outputs": [],
   "source": [
    "#initialisation\n",
    "import numpy as np\n",
    "import pandas as pd\n",
    "import seaborn as sns\n",
    "import matplotlib.pyplot as plt\n",
    "%matplotlib inline"
   ]
  },
  {
   "cell_type": "code",
   "execution_count": 89,
   "id": "7e11ffa3-aa09-4c86-a5ec-62b073fe70c3",
   "metadata": {},
   "outputs": [
    {
     "data": {
      "text/html": [
       "<div>\n",
       "<style scoped>\n",
       "    .dataframe tbody tr th:only-of-type {\n",
       "        vertical-align: middle;\n",
       "    }\n",
       "\n",
       "    .dataframe tbody tr th {\n",
       "        vertical-align: top;\n",
       "    }\n",
       "\n",
       "    .dataframe thead th {\n",
       "        text-align: right;\n",
       "    }\n",
       "</style>\n",
       "<table border=\"1\" class=\"dataframe\">\n",
       "  <thead>\n",
       "    <tr style=\"text-align: right;\">\n",
       "      <th></th>\n",
       "      <th>survived</th>\n",
       "      <th>pclass</th>\n",
       "      <th>sex</th>\n",
       "      <th>age</th>\n",
       "      <th>sibsp</th>\n",
       "      <th>parch</th>\n",
       "      <th>fare</th>\n",
       "      <th>embarked</th>\n",
       "      <th>class</th>\n",
       "      <th>who</th>\n",
       "      <th>adult_male</th>\n",
       "      <th>deck</th>\n",
       "      <th>embark_town</th>\n",
       "      <th>alive</th>\n",
       "      <th>alone</th>\n",
       "    </tr>\n",
       "  </thead>\n",
       "  <tbody>\n",
       "    <tr>\n",
       "      <th>0</th>\n",
       "      <td>0</td>\n",
       "      <td>3</td>\n",
       "      <td>male</td>\n",
       "      <td>22.0</td>\n",
       "      <td>1</td>\n",
       "      <td>0</td>\n",
       "      <td>7.2500</td>\n",
       "      <td>S</td>\n",
       "      <td>Third</td>\n",
       "      <td>man</td>\n",
       "      <td>True</td>\n",
       "      <td>NaN</td>\n",
       "      <td>Southampton</td>\n",
       "      <td>no</td>\n",
       "      <td>False</td>\n",
       "    </tr>\n",
       "    <tr>\n",
       "      <th>1</th>\n",
       "      <td>1</td>\n",
       "      <td>1</td>\n",
       "      <td>female</td>\n",
       "      <td>38.0</td>\n",
       "      <td>1</td>\n",
       "      <td>0</td>\n",
       "      <td>71.2833</td>\n",
       "      <td>C</td>\n",
       "      <td>First</td>\n",
       "      <td>woman</td>\n",
       "      <td>False</td>\n",
       "      <td>C</td>\n",
       "      <td>Cherbourg</td>\n",
       "      <td>yes</td>\n",
       "      <td>False</td>\n",
       "    </tr>\n",
       "    <tr>\n",
       "      <th>2</th>\n",
       "      <td>1</td>\n",
       "      <td>3</td>\n",
       "      <td>female</td>\n",
       "      <td>26.0</td>\n",
       "      <td>0</td>\n",
       "      <td>0</td>\n",
       "      <td>7.9250</td>\n",
       "      <td>S</td>\n",
       "      <td>Third</td>\n",
       "      <td>woman</td>\n",
       "      <td>False</td>\n",
       "      <td>NaN</td>\n",
       "      <td>Southampton</td>\n",
       "      <td>yes</td>\n",
       "      <td>True</td>\n",
       "    </tr>\n",
       "    <tr>\n",
       "      <th>3</th>\n",
       "      <td>1</td>\n",
       "      <td>1</td>\n",
       "      <td>female</td>\n",
       "      <td>35.0</td>\n",
       "      <td>1</td>\n",
       "      <td>0</td>\n",
       "      <td>53.1000</td>\n",
       "      <td>S</td>\n",
       "      <td>First</td>\n",
       "      <td>woman</td>\n",
       "      <td>False</td>\n",
       "      <td>C</td>\n",
       "      <td>Southampton</td>\n",
       "      <td>yes</td>\n",
       "      <td>False</td>\n",
       "    </tr>\n",
       "    <tr>\n",
       "      <th>4</th>\n",
       "      <td>0</td>\n",
       "      <td>3</td>\n",
       "      <td>male</td>\n",
       "      <td>35.0</td>\n",
       "      <td>0</td>\n",
       "      <td>0</td>\n",
       "      <td>8.0500</td>\n",
       "      <td>S</td>\n",
       "      <td>Third</td>\n",
       "      <td>man</td>\n",
       "      <td>True</td>\n",
       "      <td>NaN</td>\n",
       "      <td>Southampton</td>\n",
       "      <td>no</td>\n",
       "      <td>True</td>\n",
       "    </tr>\n",
       "    <tr>\n",
       "      <th>...</th>\n",
       "      <td>...</td>\n",
       "      <td>...</td>\n",
       "      <td>...</td>\n",
       "      <td>...</td>\n",
       "      <td>...</td>\n",
       "      <td>...</td>\n",
       "      <td>...</td>\n",
       "      <td>...</td>\n",
       "      <td>...</td>\n",
       "      <td>...</td>\n",
       "      <td>...</td>\n",
       "      <td>...</td>\n",
       "      <td>...</td>\n",
       "      <td>...</td>\n",
       "      <td>...</td>\n",
       "    </tr>\n",
       "    <tr>\n",
       "      <th>886</th>\n",
       "      <td>0</td>\n",
       "      <td>2</td>\n",
       "      <td>male</td>\n",
       "      <td>27.0</td>\n",
       "      <td>0</td>\n",
       "      <td>0</td>\n",
       "      <td>13.0000</td>\n",
       "      <td>S</td>\n",
       "      <td>Second</td>\n",
       "      <td>man</td>\n",
       "      <td>True</td>\n",
       "      <td>NaN</td>\n",
       "      <td>Southampton</td>\n",
       "      <td>no</td>\n",
       "      <td>True</td>\n",
       "    </tr>\n",
       "    <tr>\n",
       "      <th>887</th>\n",
       "      <td>1</td>\n",
       "      <td>1</td>\n",
       "      <td>female</td>\n",
       "      <td>19.0</td>\n",
       "      <td>0</td>\n",
       "      <td>0</td>\n",
       "      <td>30.0000</td>\n",
       "      <td>S</td>\n",
       "      <td>First</td>\n",
       "      <td>woman</td>\n",
       "      <td>False</td>\n",
       "      <td>B</td>\n",
       "      <td>Southampton</td>\n",
       "      <td>yes</td>\n",
       "      <td>True</td>\n",
       "    </tr>\n",
       "    <tr>\n",
       "      <th>888</th>\n",
       "      <td>0</td>\n",
       "      <td>3</td>\n",
       "      <td>female</td>\n",
       "      <td>NaN</td>\n",
       "      <td>1</td>\n",
       "      <td>2</td>\n",
       "      <td>23.4500</td>\n",
       "      <td>S</td>\n",
       "      <td>Third</td>\n",
       "      <td>woman</td>\n",
       "      <td>False</td>\n",
       "      <td>NaN</td>\n",
       "      <td>Southampton</td>\n",
       "      <td>no</td>\n",
       "      <td>False</td>\n",
       "    </tr>\n",
       "    <tr>\n",
       "      <th>889</th>\n",
       "      <td>1</td>\n",
       "      <td>1</td>\n",
       "      <td>male</td>\n",
       "      <td>26.0</td>\n",
       "      <td>0</td>\n",
       "      <td>0</td>\n",
       "      <td>30.0000</td>\n",
       "      <td>C</td>\n",
       "      <td>First</td>\n",
       "      <td>man</td>\n",
       "      <td>True</td>\n",
       "      <td>C</td>\n",
       "      <td>Cherbourg</td>\n",
       "      <td>yes</td>\n",
       "      <td>True</td>\n",
       "    </tr>\n",
       "    <tr>\n",
       "      <th>890</th>\n",
       "      <td>0</td>\n",
       "      <td>3</td>\n",
       "      <td>male</td>\n",
       "      <td>32.0</td>\n",
       "      <td>0</td>\n",
       "      <td>0</td>\n",
       "      <td>7.7500</td>\n",
       "      <td>Q</td>\n",
       "      <td>Third</td>\n",
       "      <td>man</td>\n",
       "      <td>True</td>\n",
       "      <td>NaN</td>\n",
       "      <td>Queenstown</td>\n",
       "      <td>no</td>\n",
       "      <td>True</td>\n",
       "    </tr>\n",
       "  </tbody>\n",
       "</table>\n",
       "<p>891 rows × 15 columns</p>\n",
       "</div>"
      ],
      "text/plain": [
       "     survived  pclass     sex   age  sibsp  parch     fare embarked   class  \\\n",
       "0           0       3    male  22.0      1      0   7.2500        S   Third   \n",
       "1           1       1  female  38.0      1      0  71.2833        C   First   \n",
       "2           1       3  female  26.0      0      0   7.9250        S   Third   \n",
       "3           1       1  female  35.0      1      0  53.1000        S   First   \n",
       "4           0       3    male  35.0      0      0   8.0500        S   Third   \n",
       "..        ...     ...     ...   ...    ...    ...      ...      ...     ...   \n",
       "886         0       2    male  27.0      0      0  13.0000        S  Second   \n",
       "887         1       1  female  19.0      0      0  30.0000        S   First   \n",
       "888         0       3  female   NaN      1      2  23.4500        S   Third   \n",
       "889         1       1    male  26.0      0      0  30.0000        C   First   \n",
       "890         0       3    male  32.0      0      0   7.7500        Q   Third   \n",
       "\n",
       "       who  adult_male deck  embark_town alive  alone  \n",
       "0      man        True  NaN  Southampton    no  False  \n",
       "1    woman       False    C    Cherbourg   yes  False  \n",
       "2    woman       False  NaN  Southampton   yes   True  \n",
       "3    woman       False    C  Southampton   yes  False  \n",
       "4      man        True  NaN  Southampton    no   True  \n",
       "..     ...         ...  ...          ...   ...    ...  \n",
       "886    man        True  NaN  Southampton    no   True  \n",
       "887  woman       False    B  Southampton   yes   True  \n",
       "888  woman       False  NaN  Southampton    no  False  \n",
       "889    man        True    C    Cherbourg   yes   True  \n",
       "890    man        True  NaN   Queenstown    no   True  \n",
       "\n",
       "[891 rows x 15 columns]"
      ]
     },
     "execution_count": 89,
     "metadata": {},
     "output_type": "execute_result"
    }
   ],
   "source": [
    "titanic_df = sns.load_dataset(\"titanic\")\n",
    "titanic_df"
   ]
  },
  {
   "cell_type": "markdown",
   "id": "da1f9ae0-e0f7-4327-b287-16ef2a634a3a",
   "metadata": {},
   "source": [
    "## Clean the dataset: \n",
    "\n",
    "- Where are the missing values, can they be filled/need to be dropped?\n",
    "    - df.isnull()\n",
    "    - df.fillna()\n",
    "    - df.dropna() \n",
    "- Are there any duplicates?\n",
    "    - df.duplicated()\n",
    "    - df.drop_duplicates()\n",
    "- Do any columns need renaming?\n",
    "    - df.rename() \n",
    "- Any other data quality concepts you can check?"
   ]
  },
  {
   "cell_type": "code",
   "execution_count": 90,
   "id": "c815a82f-8475-4630-acfc-030da3723c79",
   "metadata": {},
   "outputs": [
    {
     "data": {
      "text/plain": [
       "survived         0\n",
       "pclass           0\n",
       "sex              0\n",
       "age            177\n",
       "sibsp            0\n",
       "parch            0\n",
       "fare             0\n",
       "embarked         2\n",
       "class            0\n",
       "who              0\n",
       "adult_male       0\n",
       "deck           688\n",
       "embark_town      2\n",
       "alive            0\n",
       "alone            0\n",
       "dtype: int64"
      ]
     },
     "execution_count": 90,
     "metadata": {},
     "output_type": "execute_result"
    }
   ],
   "source": [
    "#python\n",
    "titanic_df.isna().sum()"
   ]
  },
  {
   "cell_type": "markdown",
   "id": "47d49278-6ad1-4fe9-87fe-1faedecf93d9",
   "metadata": {},
   "source": [
    "We notice that there are 688 nulls for deck, which is a very significant amount. So we drop the deck column."
   ]
  },
  {
   "cell_type": "code",
   "execution_count": 91,
   "id": "4d9c16ef-f7d2-43ab-be91-811c371de1d5",
   "metadata": {},
   "outputs": [
    {
     "data": {
      "text/plain": [
       "survived         0\n",
       "pclass           0\n",
       "sex              0\n",
       "age            177\n",
       "sibsp            0\n",
       "parch            0\n",
       "fare             0\n",
       "embarked         2\n",
       "class            0\n",
       "who              0\n",
       "adult_male       0\n",
       "embark_town      2\n",
       "alive            0\n",
       "alone            0\n",
       "dtype: int64"
      ]
     },
     "execution_count": 91,
     "metadata": {},
     "output_type": "execute_result"
    }
   ],
   "source": [
    "titanic_df = titanic_df.drop(columns=[\"deck\"])\n",
    "titanic_df.isna().sum()"
   ]
  },
  {
   "cell_type": "markdown",
   "id": "b1f482ac-5b6e-4a3b-b489-4a6380a57f16",
   "metadata": {},
   "source": [
    "We can drop the rows where embarked and embark_town is null"
   ]
  },
  {
   "cell_type": "code",
   "execution_count": 92,
   "id": "485daeb6-fd67-4f1c-811a-24b7ccfa3f52",
   "metadata": {},
   "outputs": [
    {
     "data": {
      "text/plain": [
       "survived         0\n",
       "pclass           0\n",
       "sex              0\n",
       "age            177\n",
       "sibsp            0\n",
       "parch            0\n",
       "fare             0\n",
       "embarked         0\n",
       "class            0\n",
       "who              0\n",
       "adult_male       0\n",
       "embark_town      0\n",
       "alive            0\n",
       "alone            0\n",
       "dtype: int64"
      ]
     },
     "execution_count": 92,
     "metadata": {},
     "output_type": "execute_result"
    }
   ],
   "source": [
    "titanic_df = titanic_df.dropna(subset=['embarked','embark_town'])\n",
    "titanic_df.isna().sum()"
   ]
  },
  {
   "cell_type": "markdown",
   "id": "9870d00e-345a-4762-85bf-982e818de662",
   "metadata": {},
   "source": [
    "Finally, we see there is a singificant number of nulls for age. We can either fill these with the median value, or drop these rows. Why not both!"
   ]
  },
  {
   "cell_type": "code",
   "execution_count": 93,
   "id": "62ab4d13-740d-475d-829d-2e9aba817f8c",
   "metadata": {},
   "outputs": [],
   "source": [
    "titanic_fill_age_df = titanic_df.copy()\n",
    "titanic_no_fill_age_df = titanic_df.copy()\n",
    "\n",
    "titanic_fill_age_df['age'] = titanic_fill_age_df['age'].fillna(value=titanic_df['age'].median())\n",
    "titanic_no_fill_age_df = titanic_no_fill_age_df.dropna()"
   ]
  },
  {
   "cell_type": "code",
   "execution_count": 94,
   "id": "8b6e6fe6-ac34-4044-9f19-92de8e1a6dbd",
   "metadata": {},
   "outputs": [
    {
     "name": "stdout",
     "output_type": "stream",
     "text": [
      "There are 116 duplicate rows in the dataframe\n",
      "There are 38 duplicate rows in the dataframe\n"
     ]
    }
   ],
   "source": [
    "duplicated = titanic_fill_age_df.duplicated().sum()\n",
    "duplicated2 = titanic_no_fill_age_df.duplicated().sum()\n",
    "print(f\"There are {duplicated} duplicate rows in the dataframe\")\n",
    "print(f\"There are {duplicated2} duplicate rows in the dataframe\")"
   ]
  },
  {
   "cell_type": "markdown",
   "id": "e3abee13-0ced-437b-a6ef-e4e9cb7007f2",
   "metadata": {},
   "source": [
    "Now we drop the duplicate rows"
   ]
  },
  {
   "cell_type": "code",
   "execution_count": 95,
   "id": "88b67ee3-509d-4ace-85c2-6d77336655ef",
   "metadata": {},
   "outputs": [],
   "source": [
    "titanic_fill_age_df = titanic_fill_age_df.drop_duplicates()\n",
    "titanic_no_fill_age_df = titanic_no_fill_age_df.drop_duplicates()"
   ]
  },
  {
   "cell_type": "code",
   "execution_count": 96,
   "id": "672d32e6-ff41-4917-98e3-ff0e868eb4f0",
   "metadata": {
    "scrolled": true
   },
   "outputs": [
    {
     "name": "stdout",
     "output_type": "stream",
     "text": [
      "The filled age data frame with filled ages has 773 entries, 0 duplicates, and 0 null values\n",
      "The non-filled age data frame with filled ages has 674 entries, 0 duplicates, and 0 null values\n"
     ]
    }
   ],
   "source": [
    "print(f\"The filled age data frame with filled ages has {titanic_fill_age_df.shape[0]} entries, {titanic_fill_age_df.duplicated().sum()} duplicates, and {titanic_fill_age_df.isna().sum().sum()} null values\")\n",
    "print(f\"The non-filled age data frame with filled ages has {titanic_no_fill_age_df.shape[0]} entries, {titanic_no_fill_age_df.duplicated().sum()} duplicates, and {titanic_no_fill_age_df.isna().sum().sum()} null values\")"
   ]
  },
  {
   "cell_type": "markdown",
   "id": "679d88b8-f7b3-4461-85b8-e9e188c4e47e",
   "metadata": {},
   "source": [
    "\n",
    "**From now on we will be looking at the data frame where we dropped the null age columns**\n",
    "\n",
    "Let's rename some columns\n"
   ]
  },
  {
   "cell_type": "code",
   "execution_count": 97,
   "id": "663e23cb-79b8-4c0d-b44c-5a4c3b3bc693",
   "metadata": {},
   "outputs": [
    {
     "name": "stdout",
     "output_type": "stream",
     "text": [
      "['survived', 'pclass', 'sex', 'age', 'sibsp', 'parch', 'fare', 'embarked', 'class', 'who', 'adult_male', 'embark_town', 'alive', 'alone']\n"
     ]
    }
   ],
   "source": [
    "print(list(titanic_no_fill_age_df.columns))"
   ]
  },
  {
   "cell_type": "code",
   "execution_count": 98,
   "id": "0d325ab0-8ca6-40a5-b661-8b7bd023029e",
   "metadata": {},
   "outputs": [
    {
     "name": "stdout",
     "output_type": "stream",
     "text": [
      "['survived', 'pclass', 'sex', 'age', 'siblings_and_spouses', 'parents_and_children', 'fare', 'embark_port', 'class', 'who', 'adult_male', 'embark_town', 'alive', 'alone']\n"
     ]
    }
   ],
   "source": [
    "rename_columns = {'sibsp':'siblings_and_spouses',\n",
    "                  'parch':'parents_and_children',\n",
    "                  'embarked':'embark_port'}\n",
    "titanic_no_fill_age_df = titanic_no_fill_age_df.rename(columns=rename_columns)\n",
    "print(list(titanic_no_fill_age_df.columns))"
   ]
  },
  {
   "cell_type": "markdown",
   "id": "7b1e87e9-4024-4a5a-b873-a8ace74f7898",
   "metadata": {
    "scrolled": true
   },
   "source": [
    "## Check the descriptive statistics\n",
    "- df.describe()"
   ]
  },
  {
   "cell_type": "code",
   "execution_count": 99,
   "id": "88fa9eb9-3049-4bfb-8ced-3b73fcc06a2a",
   "metadata": {
    "jp-MarkdownHeadingCollapsed": true,
    "scrolled": true
   },
   "outputs": [
    {
     "data": {
      "text/html": [
       "<div>\n",
       "<style scoped>\n",
       "    .dataframe tbody tr th:only-of-type {\n",
       "        vertical-align: middle;\n",
       "    }\n",
       "\n",
       "    .dataframe tbody tr th {\n",
       "        vertical-align: top;\n",
       "    }\n",
       "\n",
       "    .dataframe thead th {\n",
       "        text-align: right;\n",
       "    }\n",
       "</style>\n",
       "<table border=\"1\" class=\"dataframe\">\n",
       "  <thead>\n",
       "    <tr style=\"text-align: right;\">\n",
       "      <th></th>\n",
       "      <th>survived</th>\n",
       "      <th>pclass</th>\n",
       "      <th>age</th>\n",
       "      <th>sibsp</th>\n",
       "      <th>parch</th>\n",
       "      <th>fare</th>\n",
       "    </tr>\n",
       "  </thead>\n",
       "  <tbody>\n",
       "    <tr>\n",
       "      <th>count</th>\n",
       "      <td>773.000000</td>\n",
       "      <td>773.000000</td>\n",
       "      <td>773.000000</td>\n",
       "      <td>773.000000</td>\n",
       "      <td>773.000000</td>\n",
       "      <td>773.000000</td>\n",
       "    </tr>\n",
       "    <tr>\n",
       "      <th>mean</th>\n",
       "      <td>0.411384</td>\n",
       "      <td>2.249677</td>\n",
       "      <td>29.528357</td>\n",
       "      <td>0.530401</td>\n",
       "      <td>0.421734</td>\n",
       "      <td>34.761659</td>\n",
       "    </tr>\n",
       "    <tr>\n",
       "      <th>std</th>\n",
       "      <td>0.492403</td>\n",
       "      <td>0.852315</td>\n",
       "      <td>13.731264</td>\n",
       "      <td>0.991241</td>\n",
       "      <td>0.841380</td>\n",
       "      <td>52.425906</td>\n",
       "    </tr>\n",
       "    <tr>\n",
       "      <th>min</th>\n",
       "      <td>0.000000</td>\n",
       "      <td>1.000000</td>\n",
       "      <td>0.420000</td>\n",
       "      <td>0.000000</td>\n",
       "      <td>0.000000</td>\n",
       "      <td>0.000000</td>\n",
       "    </tr>\n",
       "    <tr>\n",
       "      <th>25%</th>\n",
       "      <td>0.000000</td>\n",
       "      <td>1.000000</td>\n",
       "      <td>21.000000</td>\n",
       "      <td>0.000000</td>\n",
       "      <td>0.000000</td>\n",
       "      <td>8.050000</td>\n",
       "    </tr>\n",
       "    <tr>\n",
       "      <th>50%</th>\n",
       "      <td>0.000000</td>\n",
       "      <td>3.000000</td>\n",
       "      <td>28.000000</td>\n",
       "      <td>0.000000</td>\n",
       "      <td>0.000000</td>\n",
       "      <td>15.900000</td>\n",
       "    </tr>\n",
       "    <tr>\n",
       "      <th>75%</th>\n",
       "      <td>1.000000</td>\n",
       "      <td>3.000000</td>\n",
       "      <td>36.000000</td>\n",
       "      <td>1.000000</td>\n",
       "      <td>1.000000</td>\n",
       "      <td>33.500000</td>\n",
       "    </tr>\n",
       "    <tr>\n",
       "      <th>max</th>\n",
       "      <td>1.000000</td>\n",
       "      <td>3.000000</td>\n",
       "      <td>80.000000</td>\n",
       "      <td>8.000000</td>\n",
       "      <td>6.000000</td>\n",
       "      <td>512.329200</td>\n",
       "    </tr>\n",
       "  </tbody>\n",
       "</table>\n",
       "</div>"
      ],
      "text/plain": [
       "         survived      pclass         age       sibsp       parch        fare\n",
       "count  773.000000  773.000000  773.000000  773.000000  773.000000  773.000000\n",
       "mean     0.411384    2.249677   29.528357    0.530401    0.421734   34.761659\n",
       "std      0.492403    0.852315   13.731264    0.991241    0.841380   52.425906\n",
       "min      0.000000    1.000000    0.420000    0.000000    0.000000    0.000000\n",
       "25%      0.000000    1.000000   21.000000    0.000000    0.000000    8.050000\n",
       "50%      0.000000    3.000000   28.000000    0.000000    0.000000   15.900000\n",
       "75%      1.000000    3.000000   36.000000    1.000000    1.000000   33.500000\n",
       "max      1.000000    3.000000   80.000000    8.000000    6.000000  512.329200"
      ]
     },
     "execution_count": 99,
     "metadata": {},
     "output_type": "execute_result"
    }
   ],
   "source": [
    "titanic_fill_age_df.describe()"
   ]
  },
  {
   "cell_type": "markdown",
   "id": "675a73d9-10ff-4de1-a96d-426dc3071be8",
   "metadata": {},
   "source": [
    "What we can infer from this data:\n",
    "- only 41.1% of the passengers in this list survived\n",
    "- There were more entries for people in 3rd class than 1st\n",
    "- The mean age was 29.5\n"
   ]
  },
  {
   "cell_type": "markdown",
   "id": "2885d69e-0521-4016-9a23-1ab2a4f849e4",
   "metadata": {
    "scrolled": true
   },
   "source": [
    "## Find the average fare and age for each class \n",
    "- df.groupby()\n",
    "- mean()"
   ]
  },
  {
   "cell_type": "code",
   "execution_count": 100,
   "id": "1f932a9a-e288-41c6-bb36-82f1e08e4202",
   "metadata": {},
   "outputs": [
    {
     "data": {
      "text/html": [
       "<div>\n",
       "<style scoped>\n",
       "    .dataframe tbody tr th:only-of-type {\n",
       "        vertical-align: middle;\n",
       "    }\n",
       "\n",
       "    .dataframe tbody tr th {\n",
       "        vertical-align: top;\n",
       "    }\n",
       "\n",
       "    .dataframe thead th {\n",
       "        text-align: right;\n",
       "    }\n",
       "</style>\n",
       "<table border=\"1\" class=\"dataframe\">\n",
       "  <thead>\n",
       "    <tr style=\"text-align: right;\">\n",
       "      <th></th>\n",
       "      <th>age</th>\n",
       "      <th>fare</th>\n",
       "    </tr>\n",
       "    <tr>\n",
       "      <th>class</th>\n",
       "      <th></th>\n",
       "      <th></th>\n",
       "    </tr>\n",
       "  </thead>\n",
       "  <tbody>\n",
       "    <tr>\n",
       "      <th>First</th>\n",
       "      <td>38.051758</td>\n",
       "      <td>88.489035</td>\n",
       "    </tr>\n",
       "    <tr>\n",
       "      <th>Second</th>\n",
       "      <td>29.859684</td>\n",
       "      <td>22.168223</td>\n",
       "    </tr>\n",
       "    <tr>\n",
       "      <th>Third</th>\n",
       "      <td>25.180150</td>\n",
       "      <td>13.377507</td>\n",
       "    </tr>\n",
       "  </tbody>\n",
       "</table>\n",
       "</div>"
      ],
      "text/plain": [
       "              age       fare\n",
       "class                       \n",
       "First   38.051758  88.489035\n",
       "Second  29.859684  22.168223\n",
       "Third   25.180150  13.377507"
      ]
     },
     "execution_count": 100,
     "metadata": {},
     "output_type": "execute_result"
    }
   ],
   "source": [
    "titanic_no_fill_age_df[['class','age','fare']].groupby(['class'],observed=True).mean()\n"
   ]
  },
  {
   "cell_type": "markdown",
   "id": "42662e13-d1ec-42df-be13-7439a7952bd7",
   "metadata": {},
   "source": [
    "Here we see the average (mean) age and fare for each class.\n",
    "As expected, the lower the class the lower the average fare. Additionally, the average age increases as class goes up. We ponder if as age increases, accumulated wealth is likely to increase and thus the class of ticket able to be afforded increases.\n"
   ]
  },
  {
   "cell_type": "markdown",
   "id": "8bd64963-53a9-447b-973d-64154d85c5cf",
   "metadata": {},
   "source": [
    "Let's graph this"
   ]
  },
  {
   "cell_type": "code",
   "execution_count": 124,
   "id": "cf5000bb-2916-4302-b34a-26a854dc73fa",
   "metadata": {},
   "outputs": [
    {
     "data": {
      "text/plain": [
       "<Axes: xlabel='class', ylabel='fare'>"
      ]
     },
     "execution_count": 124,
     "metadata": {},
     "output_type": "execute_result"
    },
    {
     "data": {
      "image/png": "[encoded data removed]",
      "text/plain": [
       "<Figure size 1600x400 with 2 Axes>"
      ]
     },
     "metadata": {},
     "output_type": "display_data"
    }
   ],
   "source": [
    "fig, ax = plt.subplots(1,2)\n",
    "sns.boxplot(data=titanic_no_fill_age_df, x = 'class', y='age', ax=ax[0])\n",
    "sns.boxplot(data=titanic_no_fill_age_df, x = 'class', y='fare', ax=ax[1])"
   ]
  },
  {
   "cell_type": "markdown",
   "id": "7398b9d8-3645-4276-b50c-12451c276494",
   "metadata": {},
   "source": [
    "One clear detail shown by the graphs is that there is an outlier for the first class fare that is massively larger than the rest of the entries."
   ]
  },
  {
   "cell_type": "markdown",
   "id": "c408b6ba-692f-42c3-b2bd-a20fe848e27a",
   "metadata": {},
   "source": [
    "## Add a new column showing the fare as a percentage of total"
   ]
  },
  {
   "cell_type": "code",
   "execution_count": 115,
   "id": "cfb0371e-3c40-4935-88a4-f2a6afa4ea15",
   "metadata": {},
   "outputs": [
    {
     "data": {
      "text/html": [
       "<div>\n",
       "<style scoped>\n",
       "    .dataframe tbody tr th:only-of-type {\n",
       "        vertical-align: middle;\n",
       "    }\n",
       "\n",
       "    .dataframe tbody tr th {\n",
       "        vertical-align: top;\n",
       "    }\n",
       "\n",
       "    .dataframe thead th {\n",
       "        text-align: right;\n",
       "    }\n",
       "</style>\n",
       "<table border=\"1\" class=\"dataframe\">\n",
       "  <thead>\n",
       "    <tr style=\"text-align: right;\">\n",
       "      <th></th>\n",
       "      <th>survived</th>\n",
       "      <th>pclass</th>\n",
       "      <th>sex</th>\n",
       "      <th>age</th>\n",
       "      <th>siblings_and_spouses</th>\n",
       "      <th>parents_and_children</th>\n",
       "      <th>fare</th>\n",
       "      <th>embark_port</th>\n",
       "      <th>class</th>\n",
       "      <th>who</th>\n",
       "      <th>adult_male</th>\n",
       "      <th>embark_town</th>\n",
       "      <th>alive</th>\n",
       "      <th>alone</th>\n",
       "      <th>percentage_fare_of_total</th>\n",
       "    </tr>\n",
       "  </thead>\n",
       "  <tbody>\n",
       "    <tr>\n",
       "      <th>0</th>\n",
       "      <td>0</td>\n",
       "      <td>3</td>\n",
       "      <td>male</td>\n",
       "      <td>22.0</td>\n",
       "      <td>1</td>\n",
       "      <td>0</td>\n",
       "      <td>7.2500</td>\n",
       "      <td>S</td>\n",
       "      <td>Third</td>\n",
       "      <td>man</td>\n",
       "      <td>True</td>\n",
       "      <td>Southampton</td>\n",
       "      <td>no</td>\n",
       "      <td>False</td>\n",
       "      <td>0.030113</td>\n",
       "    </tr>\n",
       "    <tr>\n",
       "      <th>1</th>\n",
       "      <td>1</td>\n",
       "      <td>1</td>\n",
       "      <td>female</td>\n",
       "      <td>38.0</td>\n",
       "      <td>1</td>\n",
       "      <td>0</td>\n",
       "      <td>71.2833</td>\n",
       "      <td>C</td>\n",
       "      <td>First</td>\n",
       "      <td>woman</td>\n",
       "      <td>False</td>\n",
       "      <td>Cherbourg</td>\n",
       "      <td>yes</td>\n",
       "      <td>False</td>\n",
       "      <td>0.296080</td>\n",
       "    </tr>\n",
       "    <tr>\n",
       "      <th>2</th>\n",
       "      <td>1</td>\n",
       "      <td>3</td>\n",
       "      <td>female</td>\n",
       "      <td>26.0</td>\n",
       "      <td>0</td>\n",
       "      <td>0</td>\n",
       "      <td>7.9250</td>\n",
       "      <td>S</td>\n",
       "      <td>Third</td>\n",
       "      <td>woman</td>\n",
       "      <td>False</td>\n",
       "      <td>Southampton</td>\n",
       "      <td>yes</td>\n",
       "      <td>True</td>\n",
       "      <td>0.032917</td>\n",
       "    </tr>\n",
       "    <tr>\n",
       "      <th>3</th>\n",
       "      <td>1</td>\n",
       "      <td>1</td>\n",
       "      <td>female</td>\n",
       "      <td>35.0</td>\n",
       "      <td>1</td>\n",
       "      <td>0</td>\n",
       "      <td>53.1000</td>\n",
       "      <td>S</td>\n",
       "      <td>First</td>\n",
       "      <td>woman</td>\n",
       "      <td>False</td>\n",
       "      <td>Southampton</td>\n",
       "      <td>yes</td>\n",
       "      <td>False</td>\n",
       "      <td>0.220555</td>\n",
       "    </tr>\n",
       "    <tr>\n",
       "      <th>4</th>\n",
       "      <td>0</td>\n",
       "      <td>3</td>\n",
       "      <td>male</td>\n",
       "      <td>35.0</td>\n",
       "      <td>0</td>\n",
       "      <td>0</td>\n",
       "      <td>8.0500</td>\n",
       "      <td>S</td>\n",
       "      <td>Third</td>\n",
       "      <td>man</td>\n",
       "      <td>True</td>\n",
       "      <td>Southampton</td>\n",
       "      <td>no</td>\n",
       "      <td>True</td>\n",
       "      <td>0.033436</td>\n",
       "    </tr>\n",
       "    <tr>\n",
       "      <th>...</th>\n",
       "      <td>...</td>\n",
       "      <td>...</td>\n",
       "      <td>...</td>\n",
       "      <td>...</td>\n",
       "      <td>...</td>\n",
       "      <td>...</td>\n",
       "      <td>...</td>\n",
       "      <td>...</td>\n",
       "      <td>...</td>\n",
       "      <td>...</td>\n",
       "      <td>...</td>\n",
       "      <td>...</td>\n",
       "      <td>...</td>\n",
       "      <td>...</td>\n",
       "      <td>...</td>\n",
       "    </tr>\n",
       "    <tr>\n",
       "      <th>883</th>\n",
       "      <td>0</td>\n",
       "      <td>2</td>\n",
       "      <td>male</td>\n",
       "      <td>28.0</td>\n",
       "      <td>0</td>\n",
       "      <td>0</td>\n",
       "      <td>10.5000</td>\n",
       "      <td>S</td>\n",
       "      <td>Second</td>\n",
       "      <td>man</td>\n",
       "      <td>True</td>\n",
       "      <td>Southampton</td>\n",
       "      <td>no</td>\n",
       "      <td>True</td>\n",
       "      <td>0.043612</td>\n",
       "    </tr>\n",
       "    <tr>\n",
       "      <th>885</th>\n",
       "      <td>0</td>\n",
       "      <td>3</td>\n",
       "      <td>female</td>\n",
       "      <td>39.0</td>\n",
       "      <td>0</td>\n",
       "      <td>5</td>\n",
       "      <td>29.1250</td>\n",
       "      <td>Q</td>\n",
       "      <td>Third</td>\n",
       "      <td>woman</td>\n",
       "      <td>False</td>\n",
       "      <td>Queenstown</td>\n",
       "      <td>no</td>\n",
       "      <td>False</td>\n",
       "      <td>0.120973</td>\n",
       "    </tr>\n",
       "    <tr>\n",
       "      <th>887</th>\n",
       "      <td>1</td>\n",
       "      <td>1</td>\n",
       "      <td>female</td>\n",
       "      <td>19.0</td>\n",
       "      <td>0</td>\n",
       "      <td>0</td>\n",
       "      <td>30.0000</td>\n",
       "      <td>S</td>\n",
       "      <td>First</td>\n",
       "      <td>woman</td>\n",
       "      <td>False</td>\n",
       "      <td>Southampton</td>\n",
       "      <td>yes</td>\n",
       "      <td>True</td>\n",
       "      <td>0.124607</td>\n",
       "    </tr>\n",
       "    <tr>\n",
       "      <th>889</th>\n",
       "      <td>1</td>\n",
       "      <td>1</td>\n",
       "      <td>male</td>\n",
       "      <td>26.0</td>\n",
       "      <td>0</td>\n",
       "      <td>0</td>\n",
       "      <td>30.0000</td>\n",
       "      <td>C</td>\n",
       "      <td>First</td>\n",
       "      <td>man</td>\n",
       "      <td>True</td>\n",
       "      <td>Cherbourg</td>\n",
       "      <td>yes</td>\n",
       "      <td>True</td>\n",
       "      <td>0.124607</td>\n",
       "    </tr>\n",
       "    <tr>\n",
       "      <th>890</th>\n",
       "      <td>0</td>\n",
       "      <td>3</td>\n",
       "      <td>male</td>\n",
       "      <td>32.0</td>\n",
       "      <td>0</td>\n",
       "      <td>0</td>\n",
       "      <td>7.7500</td>\n",
       "      <td>Q</td>\n",
       "      <td>Third</td>\n",
       "      <td>man</td>\n",
       "      <td>True</td>\n",
       "      <td>Queenstown</td>\n",
       "      <td>no</td>\n",
       "      <td>True</td>\n",
       "      <td>0.032190</td>\n",
       "    </tr>\n",
       "  </tbody>\n",
       "</table>\n",
       "<p>674 rows × 15 columns</p>\n",
       "</div>"
      ],
      "text/plain": [
       "     survived  pclass     sex   age  siblings_and_spouses  \\\n",
       "0           0       3    male  22.0                     1   \n",
       "1           1       1  female  38.0                     1   \n",
       "2           1       3  female  26.0                     0   \n",
       "3           1       1  female  35.0                     1   \n",
       "4           0       3    male  35.0                     0   \n",
       "..        ...     ...     ...   ...                   ...   \n",
       "883         0       2    male  28.0                     0   \n",
       "885         0       3  female  39.0                     0   \n",
       "887         1       1  female  19.0                     0   \n",
       "889         1       1    male  26.0                     0   \n",
       "890         0       3    male  32.0                     0   \n",
       "\n",
       "     parents_and_children     fare embark_port   class    who  adult_male  \\\n",
       "0                       0   7.2500           S   Third    man        True   \n",
       "1                       0  71.2833           C   First  woman       False   \n",
       "2                       0   7.9250           S   Third  woman       False   \n",
       "3                       0  53.1000           S   First  woman       False   \n",
       "4                       0   8.0500           S   Third    man        True   \n",
       "..                    ...      ...         ...     ...    ...         ...   \n",
       "883                     0  10.5000           S  Second    man        True   \n",
       "885                     5  29.1250           Q   Third  woman       False   \n",
       "887                     0  30.0000           S   First  woman       False   \n",
       "889                     0  30.0000           C   First    man        True   \n",
       "890                     0   7.7500           Q   Third    man        True   \n",
       "\n",
       "     embark_town alive  alone  percentage_fare_of_total  \n",
       "0    Southampton    no  False                  0.030113  \n",
       "1      Cherbourg   yes  False                  0.296080  \n",
       "2    Southampton   yes   True                  0.032917  \n",
       "3    Southampton   yes  False                  0.220555  \n",
       "4    Southampton    no   True                  0.033436  \n",
       "..           ...   ...    ...                       ...  \n",
       "883  Southampton    no   True                  0.043612  \n",
       "885   Queenstown    no  False                  0.120973  \n",
       "887  Southampton   yes   True                  0.124607  \n",
       "889    Cherbourg   yes   True                  0.124607  \n",
       "890   Queenstown    no   True                  0.032190  \n",
       "\n",
       "[674 rows x 15 columns]"
      ]
     },
     "execution_count": 115,
     "metadata": {},
     "output_type": "execute_result"
    }
   ],
   "source": [
    "titanic_no_fill_age_df['percentage_fare_of_total'] = 100*titanic_no_fill_age_df.fare/titanic_no_fill_age_df.fare.sum()\n",
    "titanic_no_fill_age_df"
   ]
  },
  {
   "cell_type": "markdown",
   "id": "9ed1799a-5dc6-4704-a041-7cc51bca020b",
   "metadata": {},
   "source": [
    "## How many survivors were female compared to male?"
   ]
  },
  {
   "cell_type": "code",
   "execution_count": 128,
   "id": "3609c503-f717-4db5-abc6-acfd1b1af3a7",
   "metadata": {},
   "outputs": [
    {
     "data": {
      "text/html": [
       "<div>\n",
       "<style scoped>\n",
       "    .dataframe tbody tr th:only-of-type {\n",
       "        vertical-align: middle;\n",
       "    }\n",
       "\n",
       "    .dataframe tbody tr th {\n",
       "        vertical-align: top;\n",
       "    }\n",
       "\n",
       "    .dataframe thead th {\n",
       "        text-align: right;\n",
       "    }\n",
       "</style>\n",
       "<table border=\"1\" class=\"dataframe\">\n",
       "  <thead>\n",
       "    <tr style=\"text-align: right;\">\n",
       "      <th></th>\n",
       "      <th>survived</th>\n",
       "    </tr>\n",
       "    <tr>\n",
       "      <th>sex</th>\n",
       "      <th></th>\n",
       "    </tr>\n",
       "  </thead>\n",
       "  <tbody>\n",
       "    <tr>\n",
       "      <th>female</th>\n",
       "      <td>189</td>\n",
       "    </tr>\n",
       "    <tr>\n",
       "      <th>male</th>\n",
       "      <td>92</td>\n",
       "    </tr>\n",
       "  </tbody>\n",
       "</table>\n",
       "</div>"
      ],
      "text/plain": [
       "        survived\n",
       "sex             \n",
       "female       189\n",
       "male          92"
      ]
     },
     "metadata": {},
     "output_type": "display_data"
    }
   ],
   "source": [
    "df = titanic_no_fill_age_df.loc[(titanic_no_fill_age_df['survived']==1)].groupby(['sex'])[['survived']].count()\n",
    "display(df)"
   ]
  },
  {
   "cell_type": "markdown",
   "id": "4473b3a9-1eea-4a97-b07b-2228d4ee29dd",
   "metadata": {},
   "source": [
    "There were 102 more female survivors than male. Let's make this into a pie chart."
   ]
  },
  {
   "cell_type": "code",
   "execution_count": null,
   "id": "f399065b-ef03-4923-a3fc-145fb04038ab",
   "metadata": {},
   "outputs": [],
   "source": []
  },
  {
   "cell_type": "markdown",
   "id": "499dd38c-e0da-4640-953a-b8ad11bb5f92",
   "metadata": {},
   "source": [
    "What about in children?\n"
   ]
  },
  {
   "cell_type": "code",
   "execution_count": 103,
   "id": "8f01bb83-3e4c-4612-a6f5-a129b89ae3b2",
   "metadata": {},
   "outputs": [
    {
     "data": {
      "text/html": [
       "<div>\n",
       "<style scoped>\n",
       "    .dataframe tbody tr th:only-of-type {\n",
       "        vertical-align: middle;\n",
       "    }\n",
       "\n",
       "    .dataframe tbody tr th {\n",
       "        vertical-align: top;\n",
       "    }\n",
       "\n",
       "    .dataframe thead th {\n",
       "        text-align: right;\n",
       "    }\n",
       "</style>\n",
       "<table border=\"1\" class=\"dataframe\">\n",
       "  <thead>\n",
       "    <tr style=\"text-align: right;\">\n",
       "      <th>survived</th>\n",
       "      <th>0</th>\n",
       "      <th>1</th>\n",
       "    </tr>\n",
       "    <tr>\n",
       "      <th>sex</th>\n",
       "      <th></th>\n",
       "      <th></th>\n",
       "    </tr>\n",
       "  </thead>\n",
       "  <tbody>\n",
       "    <tr>\n",
       "      <th>female</th>\n",
       "      <td>64</td>\n",
       "      <td>189</td>\n",
       "    </tr>\n",
       "    <tr>\n",
       "      <th>male</th>\n",
       "      <td>329</td>\n",
       "      <td>92</td>\n",
       "    </tr>\n",
       "  </tbody>\n",
       "</table>\n",
       "</div>"
      ],
      "text/plain": [
       "survived    0    1\n",
       "sex               \n",
       "female     64  189\n",
       "male      329   92"
      ]
     },
     "execution_count": 103,
     "metadata": {},
     "output_type": "execute_result"
    }
   ],
   "source": [
    "#titanic_no_fill_age_df.loc[(titanic_no_fill_age_df['survived']==1) & (titanic_no_fill_age_df['age'] < 18)].groupby(['sex'])[['survived']].count()\n",
    "pd.crosstab(titanic_no_fill_age_df['sex'],titanic_no_fill_age_df['survived'])"
   ]
  },
  {
   "cell_type": "markdown",
   "id": "7b9bf513-2f8b-4c89-957b-10dfc4949bdd",
   "metadata": {},
   "source": [
    "## What interesting insights can you draw?"
   ]
  },
  {
   "cell_type": "markdown",
   "id": "4c1a3b7d-f4df-4fa4-908c-e427aefec2b4",
   "metadata": {},
   "source": [
    "Let's group the entries into age groups"
   ]
  },
  {
   "cell_type": "code",
   "execution_count": 104,
   "id": "a70c288b-73d0-4371-8d77-b28f62a3e742",
   "metadata": {},
   "outputs": [],
   "source": [
    "new_df = titanic_no_fill_age_df[['survived','sex','age']].copy()"
   ]
  },
  {
   "cell_type": "code",
   "execution_count": 105,
   "id": "f7c0dc1c-6dfe-4de7-9e53-195a9d09c53c",
   "metadata": {},
   "outputs": [],
   "source": [
    "bins = [0,2,4,13,18,30,45,65,110]\n",
    "labels = ['Infant','Toddler','Child','Teen','Young Adult','Middle-Aged','Older Adult','OAP']\n",
    "new_df['Age Group'] = pd.cut(new_df['age'], bins=bins, labels=labels, right=False)"
   ]
  },
  {
   "cell_type": "markdown",
   "id": "61221e80-8831-4fa7-876b-42e1d99b7c6d",
   "metadata": {},
   "source": [
    "Let's see what the age group distribution is for survival by gender"
   ]
  },
  {
   "cell_type": "code",
   "execution_count": 117,
   "id": "8a7ad590-57c3-408d-a903-9449f5bcbdaa",
   "metadata": {},
   "outputs": [
    {
     "data": {
      "text/html": [
       "<div>\n",
       "<style scoped>\n",
       "    .dataframe tbody tr th:only-of-type {\n",
       "        vertical-align: middle;\n",
       "    }\n",
       "\n",
       "    .dataframe tbody tr th {\n",
       "        vertical-align: top;\n",
       "    }\n",
       "\n",
       "    .dataframe thead th {\n",
       "        text-align: right;\n",
       "    }\n",
       "</style>\n",
       "<table border=\"1\" class=\"dataframe\">\n",
       "  <thead>\n",
       "    <tr style=\"text-align: right;\">\n",
       "      <th></th>\n",
       "      <th>survived</th>\n",
       "      <th>0</th>\n",
       "      <th>1</th>\n",
       "    </tr>\n",
       "    <tr>\n",
       "      <th>Age Group</th>\n",
       "      <th>sex</th>\n",
       "      <th></th>\n",
       "      <th></th>\n",
       "    </tr>\n",
       "  </thead>\n",
       "  <tbody>\n",
       "    <tr>\n",
       "      <th rowspan=\"2\" valign=\"top\">Infant</th>\n",
       "      <th>female</th>\n",
       "      <td>0</td>\n",
       "      <td>3</td>\n",
       "    </tr>\n",
       "    <tr>\n",
       "      <th>male</th>\n",
       "      <td>2</td>\n",
       "      <td>8</td>\n",
       "    </tr>\n",
       "    <tr>\n",
       "      <th rowspan=\"2\" valign=\"top\">Toddler</th>\n",
       "      <th>female</th>\n",
       "      <td>5</td>\n",
       "      <td>3</td>\n",
       "    </tr>\n",
       "    <tr>\n",
       "      <th>male</th>\n",
       "      <td>3</td>\n",
       "      <td>5</td>\n",
       "    </tr>\n",
       "    <tr>\n",
       "      <th rowspan=\"2\" valign=\"top\">Child</th>\n",
       "      <th>female</th>\n",
       "      <td>8</td>\n",
       "      <td>12</td>\n",
       "    </tr>\n",
       "    <tr>\n",
       "      <th>male</th>\n",
       "      <td>11</td>\n",
       "      <td>8</td>\n",
       "    </tr>\n",
       "    <tr>\n",
       "      <th rowspan=\"2\" valign=\"top\">Teen</th>\n",
       "      <th>female</th>\n",
       "      <td>4</td>\n",
       "      <td>19</td>\n",
       "    </tr>\n",
       "    <tr>\n",
       "      <th>male</th>\n",
       "      <td>17</td>\n",
       "      <td>2</td>\n",
       "    </tr>\n",
       "    <tr>\n",
       "      <th rowspan=\"2\" valign=\"top\">Young Adult</th>\n",
       "      <th>female</th>\n",
       "      <td>25</td>\n",
       "      <td>64</td>\n",
       "    </tr>\n",
       "    <tr>\n",
       "      <th>male</th>\n",
       "      <td>133</td>\n",
       "      <td>28</td>\n",
       "    </tr>\n",
       "    <tr>\n",
       "      <th rowspan=\"2\" valign=\"top\">Middle-Aged</th>\n",
       "      <th>female</th>\n",
       "      <td>15</td>\n",
       "      <td>61</td>\n",
       "    </tr>\n",
       "    <tr>\n",
       "      <th>male</th>\n",
       "      <td>99</td>\n",
       "      <td>27</td>\n",
       "    </tr>\n",
       "    <tr>\n",
       "      <th rowspan=\"2\" valign=\"top\">Older Adult</th>\n",
       "      <th>female</th>\n",
       "      <td>7</td>\n",
       "      <td>27</td>\n",
       "    </tr>\n",
       "    <tr>\n",
       "      <th>male</th>\n",
       "      <td>54</td>\n",
       "      <td>13</td>\n",
       "    </tr>\n",
       "    <tr>\n",
       "      <th>OAP</th>\n",
       "      <th>male</th>\n",
       "      <td>10</td>\n",
       "      <td>1</td>\n",
       "    </tr>\n",
       "  </tbody>\n",
       "</table>\n",
       "</div>"
      ],
      "text/plain": [
       "survived              0   1\n",
       "Age Group   sex            \n",
       "Infant      female    0   3\n",
       "            male      2   8\n",
       "Toddler     female    5   3\n",
       "            male      3   5\n",
       "Child       female    8  12\n",
       "            male     11   8\n",
       "Teen        female    4  19\n",
       "            male     17   2\n",
       "Young Adult female   25  64\n",
       "            male    133  28\n",
       "Middle-Aged female   15  61\n",
       "            male     99  27\n",
       "Older Adult female    7  27\n",
       "            male     54  13\n",
       "OAP         male     10   1"
      ]
     },
     "execution_count": 117,
     "metadata": {},
     "output_type": "execute_result"
    }
   ],
   "source": [
    "#new_df.groupby(['survived','Age Group','sex']).count()\n",
    "pd.crosstab([new_df['Age Group'],new_df['sex']],new_df['survived'])"
   ]
  },
  {
   "cell_type": "markdown",
   "id": "c1f1065c-fe5e-4952-b326-17f225dda7dc",
   "metadata": {},
   "source": [
    "## Now for graphs\n",
    "#### Age and Surivival\n"
   ]
  },
  {
   "cell_type": "markdown",
   "id": "7463c832-2927-4764-8547-0c869356360f",
   "metadata": {},
   "source": [
    "Firstly, let's see if we can make a bar chart for survival numbers by age group and gender"
   ]
  },
  {
   "cell_type": "code",
   "execution_count": 114,
   "id": "3d4f2388-2953-47d7-a8df-948e411a0665",
   "metadata": {},
   "outputs": [
    {
     "data": {
      "text/plain": [
       "<Axes: xlabel='Age Group', ylabel='survived'>"
      ]
     },
     "execution_count": 114,
     "metadata": {},
     "output_type": "execute_result"
    },
    {
     "data": {
      "image/png": "[encoded data removed]",
      "text/plain": [
       "<Figure size 1600x400 with 1 Axes>"
      ]
     },
     "metadata": {},
     "output_type": "display_data"
    }
   ],
   "source": [
    "plt.rcParams['figure.figsize'] = (16,4)\n",
    "sns.barplot(data=new_df, x='Age Group', y = 'survived', hue='sex', errorbar=None, estimator='sum')\n"
   ]
  },
  {
   "cell_type": "markdown",
   "id": "462fce9d-c1e5-4088-93aa-e27a371a9da1",
   "metadata": {},
   "source": [
    "As expected, the number of female survivors - especially in adults - was much greater. In infants, toddlers, and children the numbers are closer, perhaps we should look at the percentage survivorship "
   ]
  },
  {
   "cell_type": "code",
   "execution_count": 118,
   "id": "5b23fe4e-f737-4a55-8e7d-3b3c21901e03",
   "metadata": {},
   "outputs": [
    {
     "data": {
      "text/plain": [
       "<Axes: xlabel='Age Group', ylabel='survived'>"
      ]
     },
     "execution_count": 118,
     "metadata": {},
     "output_type": "execute_result"
    },
    {
     "data": {
      "image/png": "[encoded data removed]",
      "text/plain": [
       "<Figure size 1600x400 with 1 Axes>"
      ]
     },
     "metadata": {},
     "output_type": "display_data"
    }
   ],
   "source": [
    "plt.rcParams['figure.figsize'] = (16,4)\n",
    "sns.barplot(data=new_df, x='Age Group', y = 'survived', hue='sex', errorbar=None, estimator='mean')"
   ]
  },
  {
   "cell_type": "markdown",
   "id": "61d0ac3d-4783-4079-9d54-e8cba5edc5a4",
   "metadata": {},
   "source": [
    "This gives an even clearer view of the survivorship rates between sex by age"
   ]
  },
  {
   "cell_type": "markdown",
   "id": "87f6c80e-9f95-409f-bfa7-7544df016f2b",
   "metadata": {},
   "source": [
    "#### Heatmap\n",
    "\n",
    "Let's take a look at how the different variables correlate to eachother"
   ]
  },
  {
   "cell_type": "code",
   "execution_count": 108,
   "id": "6d5561e3-1d12-4393-aede-972c05281489",
   "metadata": {},
   "outputs": [],
   "source": [
    "tc = pd.get_dummies(titanic_no_fill_age_df[['survived', 'pclass', 'sex', 'age', 'siblings_and_spouses', 'parents_and_children', 'fare', 'adult_male', 'embark_town', 'alone']])"
   ]
  },
  {
   "cell_type": "code",
   "execution_count": 113,
   "id": "ee772700-d47b-4c8a-a98f-1da9f5e78d3c",
   "metadata": {},
   "outputs": [
    {
     "data": {
      "text/plain": [
       "<Axes: >"
      ]
     },
     "execution_count": 113,
     "metadata": {},
     "output_type": "execute_result"
    },
    {
     "data": {
      "image/png": "[encoded data removed]",
      "text/plain": [
       "<Figure size 800x800 with 2 Axes>"
      ]
     },
     "metadata": {},
     "output_type": "display_data"
    }
   ],
   "source": [
    "plt.rcParams['figure.figsize'] = (8,8)\n",
    "sns.heatmap(tc.drop(columns=['sex_male']).corr())"
   ]
  },
  {
   "cell_type": "markdown",
   "id": "25dbead6-67d2-48ed-8287-268d2a2bf2ac",
   "metadata": {},
   "source": [
    "There are some obvious correlations here:\n",
    "- adult_male has a negative correlation to sex_female\n",
    "- alone has a negative correlation to siblings_and_spouses and parents_and_children\n",
    "- fare and class have a negative correlation (because as class number increases (1,2,3) the value of that class is less (1=First class)\n",
    "\n",
    "However there are also some correlations to notes:\n",
    "- survived has a negative correlation to adult_male, through historical context we know that for the limited lifeboats, it was women and children first\n",
    "- similarly, survived has a negative correlation to class. Again, we know that you were more likely to have a lifeboat if you were in a better class\n",
    "- adult_male and alone have a positive correlation implying most people who were alone, were adult males\n",
    "- age and class have a negative correlation, which fits with our previouse analysis that of the mean ages per class\n"
   ]
  },
  {
   "cell_type": "markdown",
   "id": "38065dfb-ff49-4d66-bfc6-09c63d06268d",
   "metadata": {},
   "source": [
    "Now lets look at the distribution of ages"
   ]
  },
  {
   "cell_type": "code",
   "execution_count": 131,
   "id": "429076e6-f716-4d99-8461-8725c22b54fb",
   "metadata": {},
   "outputs": [
    {
     "data": {
      "text/plain": [
       "<Axes: xlabel='age', ylabel='Count'>"
      ]
     },
     "execution_count": 131,
     "metadata": {},
     "output_type": "execute_result"
    },
    {
     "data": {
      "image/png": "[encoded data removed]",
      "text/plain": [
       "<Figure size 1600x400 with 1 Axes>"
      ]
     },
     "metadata": {},
     "output_type": "display_data"
    }
   ],
   "source": [
    "sns.histplot(data=titanic_no_fill_age_df, x='age',kde=True, bins=8, hue='sex')"
   ]
  },
  {
   "cell_type": "code",
   "execution_count": null,
   "id": "41d4310d-17e1-4dac-a1ab-94c1dc6f15b4",
   "metadata": {},
   "outputs": [],
   "source": []
  }
 ],
 "metadata": {
  "kernelspec": {
   "display_name": "Python 3 (ipykernel)",
   "language": "python",
   "name": "python3"
  },
  "language_info": {
   "codemirror_mode": {
    "name": "ipython",
    "version": 3
   },
   "file_extension": ".py",
   "mimetype": "text/x-python",
   "name": "python",
   "nbconvert_exporter": "python",
   "pygments_lexer": "ipython3",
   "version": "3.12.3"
  }
 },
 "nbformat": 4,
 "nbformat_minor": 5
}
